{
 "cells": [
  {
   "cell_type": "code",
   "execution_count": null,
   "id": "1443abb8-6b9b-4c88-b576-f0f9cc86e0d6",
   "metadata": {},
   "outputs": [],
   "source": [
    "Ans1 =Guido van Rossum"
   ]
  },
  {
   "cell_type": "code",
   "execution_count": null,
   "id": "069c0062-b187-4847-92b6-1027805d958e",
   "metadata": {},
   "outputs": [],
   "source": [
    "Ans 2=  imperative, functional, procedural, and object-oriented programming;"
   ]
  },
  {
   "cell_type": "code",
   "execution_count": null,
   "id": "c630ce25-e21d-4a98-9b2b-85e064bea960",
   "metadata": {},
   "outputs": [],
   "source": [
    "Ans 3 =Yes, Python is a case-sensitive language"
   ]
  },
  {
   "cell_type": "code",
   "execution_count": null,
   "id": "c3bcf4fd-f567-4a8e-b438-912964815151",
   "metadata": {},
   "outputs": [],
   "source": [
    "Ans 4= .py"
   ]
  },
  {
   "cell_type": "code",
   "execution_count": null,
   "id": "db0bb3aa-bf80-48fd-b468-ce5315e5ea51",
   "metadata": {},
   "outputs": [],
   "source": [
    "Ans 5 =Python is an interpreted language"
   ]
  },
  {
   "cell_type": "code",
   "execution_count": null,
   "id": "04b69187-d481-4670-9063-50b1db654da2",
   "metadata": {},
   "outputs": [],
   "source": [
    "Ans 6= Indentation is used to define a block of code in python."
   ]
  },
  {
   "cell_type": "code",
   "execution_count": null,
   "id": "f78d12f4-231f-43d1-be69-a694c625b1d9",
   "metadata": {},
   "outputs": [],
   "source": [
    "\n",
    "Ans 7= Hash character(#)"
   ]
  },
  {
   "cell_type": "code",
   "execution_count": null,
   "id": "bb4b8431-d313-49d6-a8a8-1aa8867913db",
   "metadata": {},
   "outputs": [],
   "source": [
    "   \n",
    "Ans 8= Using sys.version method.\n",
    "       Using python_version() function.\n",
    "       Using Python -V command.  "
   ]
  },
  {
   "cell_type": "code",
   "execution_count": null,
   "id": "399d7b70-a65b-4cd2-b4f4-0d91a2730296",
   "metadata": {},
   "outputs": [],
   "source": [
    "   \n",
    "Ans 9=  \"lambda\"   "
   ]
  },
  {
   "cell_type": "code",
   "execution_count": null,
   "id": "7aef0499-e3ac-4958-89a6-a2ad4c595f2c",
   "metadata": {},
   "outputs": [],
   "source": [
    "\n",
    "Ans 10= preferred installer program"
   ]
  },
  {
   "cell_type": "code",
   "execution_count": null,
   "id": "3af0e517-fe2f-4c8c-b8a6-12646d133547",
   "metadata": {},
   "outputs": [],
   "source": [
    "\n",
    "Ans 11 =     print( ) function.\n",
    "             type( ) function.\n",
    "              input( ) function.\n",
    "             abs( ) function.\n",
    "             pow( ) function.\n",
    "              dir( ) function.\n",
    "               sorted( ) function.\n",
    "              max( ) function."
   ]
  },
  {
   "cell_type": "code",
   "execution_count": null,
   "id": "0d583704-e54b-43f3-ac28-d1b0248f7289",
   "metadata": {},
   "outputs": [],
   "source": [
    "Ans 12= 79 characters in Python. "
   ]
  },
  {
   "cell_type": "code",
   "execution_count": null,
   "id": "90bcde6c-35eb-4802-80b1-cf5376f493e3",
   "metadata": {},
   "outputs": [],
   "source": [
    " \n",
    "Ans 13 = Presence of third-party modules \n",
    "Extensive support libraries(NumPy for numerical calculations, Pandas for data analytics, etc.) \n",
    "Open source and large active community base \n",
    "Versatile, Easy to read, learn and write\n",
    "User-friendly data structures \n",
    "High-level language \n",
    "Dynamically typed language(No need to mention data type based on the value assigned, it takes data type) \n",
    "Object-Oriented and Procedural  Programming language\n",
    "Portable and Interactive"
   ]
  },
  {
   "cell_type": "code",
   "execution_count": null,
   "id": "6d494548-2244-4147-8db3-79c495b8d290",
   "metadata": {},
   "outputs": [],
   "source": [
    "Ans 14 =    Memory management in Python involves a private heap containing all Python objects and data structures\n",
    "    "
   ]
  },
  {
   "cell_type": "code",
   "execution_count": null,
   "id": "d3611082-a646-4124-9f1a-a4851bddb54c",
   "metadata": {},
   "outputs": [],
   "source": [
    "\n",
    " Ans 15 =    Right-clicking This PC and going to Properties.\n",
    "Clicking on the Advanced system settings in the menu on the left.\n",
    "Clicking on the Environment Variables button o​n the bottom right.\n",
    "In the System variables section, selecting the Path variable and clicking on Edit."
   ]
  },
  {
   "cell_type": "code",
   "execution_count": null,
   "id": "cd0f98fd-1109-4b0c-a0ce-d5919e5449fe",
   "metadata": {},
   "outputs": [],
   "source": [
    "\n",
    "Ans 16=  Indentation refers to the spaces at the beginning of a code line.\n",
    "    Where in other programming languages the indentation in code is for readability only,\n",
    "    the indentation in Python is very important"
   ]
  },
  {
   "cell_type": "code",
   "execution_count": null,
   "id": "57cb2f43-474b-42f6-9802-e40bce5ff327",
   "metadata": {},
   "outputs": [],
   "source": []
  },
  {
   "cell_type": "code",
   "execution_count": null,
   "id": "f27b4812-95db-4b1b-b91b-2cd087db1cd1",
   "metadata": {},
   "outputs": [],
   "source": []
  }
 ],
 "metadata": {
  "kernelspec": {
   "display_name": "Python 3 (ipykernel)",
   "language": "python",
   "name": "python3"
  },
  "language_info": {
   "codemirror_mode": {
    "name": "ipython",
    "version": 3
   },
   "file_extension": ".py",
   "mimetype": "text/x-python",
   "name": "python",
   "nbconvert_exporter": "python",
   "pygments_lexer": "ipython3",
   "version": "3.10.8"
  }
 },
 "nbformat": 4,
 "nbformat_minor": 5
}
